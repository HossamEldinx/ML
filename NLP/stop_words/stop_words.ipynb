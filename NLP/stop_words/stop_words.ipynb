{
 "cells": [
  {
   "cell_type": "code",
   "execution_count": 1,
   "metadata": {},
   "outputs": [
    {
     "data": {
      "text/plain": [
       "326"
      ]
     },
     "execution_count": 1,
     "metadata": {},
     "output_type": "execute_result"
    }
   ],
   "source": [
    "import spacy\n",
    "from spacy.lang.en.stop_words import STOP_WORDS\n",
    "len(STOP_WORDS)\n"
   ]
  },
  {
   "cell_type": "code",
   "execution_count": 2,
   "metadata": {},
   "outputs": [
    {
     "name": "stdout",
     "output_type": "stream",
     "text": [
      "We\n",
      "just\n",
      "our\n",
      "the\n",
      "part\n",
      "is\n"
     ]
    }
   ],
   "source": [
    "nlp = spacy.load('en_core_web_sm')\n",
    "doc = nlp(\"We just opened our wings, the flying part is coming soon\")\n",
    "\n",
    "for token in doc:\n",
    "    if token.is_stop:\n",
    "        print(token)\n"
   ]
  },
  {
   "cell_type": "code",
   "execution_count": 5,
   "metadata": {},
   "outputs": [],
   "source": [
    "def preprocess(text):\n",
    "    doc = nlp(text)\n",
    "    # give me words that's not stop word or punctuation mark\n",
    "    no_stop_words = [\n",
    "        token.text for token in doc if not token.is_stop and not token.is_punct]\n",
    "    return no_stop_words\n"
   ]
  },
  {
   "attachments": {},
   "cell_type": "markdown",
   "metadata": {},
   "source": [
    "In natural language processing (NLP), stop words are commonly used to refer to words that are considered insignificant or commonly occurring in a language. These words, such as articles (e.g., \"a,\" \"an,\" \"the\"), prepositions (e.g., \"in,\" \"on,\" \"at\"), conjunctions (e.g., \"and,\" \"or,\" \"but\"), and pronouns (e.g., \"he,\" \"she,\" \"it\"), do not carry significant meaning and are often used to connect meaningful words in a sentence.\n",
    "\n",
    "Stop words are typically removed from text during certain NLP tasks, such as text classification, information retrieval, and topic modeling. The primary reasons for removing stop words are:\n",
    "\n",
    "Reducing dimensionality: Stop words occur frequently in text and can be present in a large number of documents or sentences. Removing them helps reduce the feature space and computational complexity of NLP models.\n",
    "\n",
    "Improving performance: Stop words often do not contribute much to the overall meaning of a text. By removing them, the focus shifts to the more informative words, which can improve the performance of various NLP algorithms.\n",
    "\n",
    "However, there are cases where you might not want to remove stop words. For example, in tasks like sentiment analysis or text generation, removing stop words may alter the sentiment or the intended meaning of the text. Additionally, if you're working with short texts or specific domains where stop words carry significant meaning, it may be better to retain them.\n"
   ]
  },
  {
   "cell_type": "code",
   "execution_count": 6,
   "metadata": {},
   "outputs": [
    {
     "data": {
      "text/plain": [
       "['opened', 'wings', 'flying', 'coming', 'soon']"
      ]
     },
     "execution_count": 6,
     "metadata": {},
     "output_type": "execute_result"
    }
   ],
   "source": [
    "preprocess(\"We just opened our wings, the flying part is coming soon\")\n"
   ]
  }
 ],
 "metadata": {
  "kernelspec": {
   "display_name": "base",
   "language": "python",
   "name": "python3"
  },
  "language_info": {
   "codemirror_mode": {
    "name": "ipython",
    "version": 3
   },
   "file_extension": ".py",
   "mimetype": "text/x-python",
   "name": "python",
   "nbconvert_exporter": "python",
   "pygments_lexer": "ipython3",
   "version": "3.10.9"
  },
  "orig_nbformat": 4
 },
 "nbformat": 4,
 "nbformat_minor": 2
}
